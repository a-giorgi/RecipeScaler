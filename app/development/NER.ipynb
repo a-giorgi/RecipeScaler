{
  "nbformat": 4,
  "nbformat_minor": 0,
  "metadata": {
    "colab": {
      "provenance": [],
      "gpuType": "T4"
    },
    "kernelspec": {
      "name": "python3",
      "display_name": "Python 3"
    },
    "language_info": {
      "name": "python"
    },
    "accelerator": "GPU"
  },
  "cells": [
    {
      "cell_type": "markdown",
      "source": [
        "# NER - From text to recipe\n",
        "After the app was packed with OCR funcion, I need a solution to extract recipes from text. After some research I've decided to use NER - Named Entity Recongition with Tensorflow\n",
        "\n",
        "\n",
        "## Dataset\n",
        "The dataset used is the TASTEset\n"
      ],
      "metadata": {
        "id": "cdM5JTg_hzKg"
      }
    },
    {
      "cell_type": "code",
      "source": [
        "!git clone https://github.com/taisti/TASTEset"
      ],
      "metadata": {
        "colab": {
          "base_uri": "https://localhost:8080/"
        },
        "id": "I-LzPb6QhOFD",
        "outputId": "65aca11a-7e6f-4a9c-c519-8670b6713a1f"
      },
      "execution_count": null,
      "outputs": [
        {
          "output_type": "stream",
          "name": "stdout",
          "text": [
            "Cloning into 'TASTEset'...\n",
            "remote: Enumerating objects: 41, done.\u001b[K\n",
            "remote: Counting objects: 100% (12/12), done.\u001b[K\n",
            "remote: Compressing objects: 100% (9/9), done.\u001b[K\n",
            "remote: Total 41 (delta 8), reused 3 (delta 3), pack-reused 29\u001b[K\n",
            "Receiving objects: 100% (41/41), 209.16 KiB | 2.83 MiB/s, done.\n",
            "Resolving deltas: 100% (14/14), done.\n"
          ]
        }
      ]
    },
    {
      "cell_type": "markdown",
      "source": [
        "## Analyzing the data"
      ],
      "metadata": {
        "id": "FR564K3LhyHL"
      }
    },
    {
      "cell_type": "code",
      "source": [
        "import pandas as pd\n",
        "data_path = \"TASTEset/data/TASTEset.csv\"\n",
        "data = pd.read_csv(data_path, encoding='utf8')"
      ],
      "metadata": {
        "id": "tc4su829o9gK"
      },
      "execution_count": null,
      "outputs": []
    },
    {
      "cell_type": "code",
      "source": [
        "data.head()"
      ],
      "metadata": {
        "colab": {
          "base_uri": "https://localhost:8080/",
          "height": 206
        },
        "id": "jvvngx0VpFpO",
        "outputId": "154260d1-5b33-4dc6-e93f-ac6b6c311076"
      },
      "execution_count": null,
      "outputs": [
        {
          "output_type": "execute_result",
          "data": {
            "text/plain": [
              "                                         ingredients  \\\n",
              "0  5 ounces rum\\n4 ounces triple sec\\n3 ounces Ti...   \n",
              "1  2 tubes cinnamon roll, refrigerated, with icin...   \n",
              "2  4 ripe coconuts\\n1 cup evaporated milk\\n1 cup ...   \n",
              "3  1 sheet graham cracker (broken in half)\\n2 pie...   \n",
              "4  1 (8 ounce) package crescent rolls\\n8 slices d...   \n",
              "\n",
              "                                ingredients_entities  \n",
              "0  [{\"start\": 0, \"end\": 1, \"type\": \"QUANTITY\", \"e...  \n",
              "1  [{\"start\": 0, \"end\": 1, \"type\": \"QUANTITY\", \"e...  \n",
              "2  [{\"start\": 0, \"end\": 1, \"type\": \"QUANTITY\", \"e...  \n",
              "3  [{\"start\": 0, \"end\": 1, \"type\": \"QUANTITY\", \"e...  \n",
              "4  [{\"start\": 0, \"end\": 1, \"type\": \"QUANTITY\", \"e...  "
            ],
            "text/html": [
              "\n",
              "  <div id=\"df-a6075a61-631a-49cc-aa02-e2d955451dd9\" class=\"colab-df-container\">\n",
              "    <div>\n",
              "<style scoped>\n",
              "    .dataframe tbody tr th:only-of-type {\n",
              "        vertical-align: middle;\n",
              "    }\n",
              "\n",
              "    .dataframe tbody tr th {\n",
              "        vertical-align: top;\n",
              "    }\n",
              "\n",
              "    .dataframe thead th {\n",
              "        text-align: right;\n",
              "    }\n",
              "</style>\n",
              "<table border=\"1\" class=\"dataframe\">\n",
              "  <thead>\n",
              "    <tr style=\"text-align: right;\">\n",
              "      <th></th>\n",
              "      <th>ingredients</th>\n",
              "      <th>ingredients_entities</th>\n",
              "    </tr>\n",
              "  </thead>\n",
              "  <tbody>\n",
              "    <tr>\n",
              "      <th>0</th>\n",
              "      <td>5 ounces rum\\n4 ounces triple sec\\n3 ounces Ti...</td>\n",
              "      <td>[{\"start\": 0, \"end\": 1, \"type\": \"QUANTITY\", \"e...</td>\n",
              "    </tr>\n",
              "    <tr>\n",
              "      <th>1</th>\n",
              "      <td>2 tubes cinnamon roll, refrigerated, with icin...</td>\n",
              "      <td>[{\"start\": 0, \"end\": 1, \"type\": \"QUANTITY\", \"e...</td>\n",
              "    </tr>\n",
              "    <tr>\n",
              "      <th>2</th>\n",
              "      <td>4 ripe coconuts\\n1 cup evaporated milk\\n1 cup ...</td>\n",
              "      <td>[{\"start\": 0, \"end\": 1, \"type\": \"QUANTITY\", \"e...</td>\n",
              "    </tr>\n",
              "    <tr>\n",
              "      <th>3</th>\n",
              "      <td>1 sheet graham cracker (broken in half)\\n2 pie...</td>\n",
              "      <td>[{\"start\": 0, \"end\": 1, \"type\": \"QUANTITY\", \"e...</td>\n",
              "    </tr>\n",
              "    <tr>\n",
              "      <th>4</th>\n",
              "      <td>1 (8 ounce) package crescent rolls\\n8 slices d...</td>\n",
              "      <td>[{\"start\": 0, \"end\": 1, \"type\": \"QUANTITY\", \"e...</td>\n",
              "    </tr>\n",
              "  </tbody>\n",
              "</table>\n",
              "</div>\n",
              "    <div class=\"colab-df-buttons\">\n",
              "\n",
              "  <div class=\"colab-df-container\">\n",
              "    <button class=\"colab-df-convert\" onclick=\"convertToInteractive('df-a6075a61-631a-49cc-aa02-e2d955451dd9')\"\n",
              "            title=\"Convert this dataframe to an interactive table.\"\n",
              "            style=\"display:none;\">\n",
              "\n",
              "  <svg xmlns=\"http://www.w3.org/2000/svg\" height=\"24px\" viewBox=\"0 -960 960 960\">\n",
              "    <path d=\"M120-120v-720h720v720H120Zm60-500h600v-160H180v160Zm220 220h160v-160H400v160Zm0 220h160v-160H400v160ZM180-400h160v-160H180v160Zm440 0h160v-160H620v160ZM180-180h160v-160H180v160Zm440 0h160v-160H620v160Z\"/>\n",
              "  </svg>\n",
              "    </button>\n",
              "\n",
              "  <style>\n",
              "    .colab-df-container {\n",
              "      display:flex;\n",
              "      gap: 12px;\n",
              "    }\n",
              "\n",
              "    .colab-df-convert {\n",
              "      background-color: #E8F0FE;\n",
              "      border: none;\n",
              "      border-radius: 50%;\n",
              "      cursor: pointer;\n",
              "      display: none;\n",
              "      fill: #1967D2;\n",
              "      height: 32px;\n",
              "      padding: 0 0 0 0;\n",
              "      width: 32px;\n",
              "    }\n",
              "\n",
              "    .colab-df-convert:hover {\n",
              "      background-color: #E2EBFA;\n",
              "      box-shadow: 0px 1px 2px rgba(60, 64, 67, 0.3), 0px 1px 3px 1px rgba(60, 64, 67, 0.15);\n",
              "      fill: #174EA6;\n",
              "    }\n",
              "\n",
              "    .colab-df-buttons div {\n",
              "      margin-bottom: 4px;\n",
              "    }\n",
              "\n",
              "    [theme=dark] .colab-df-convert {\n",
              "      background-color: #3B4455;\n",
              "      fill: #D2E3FC;\n",
              "    }\n",
              "\n",
              "    [theme=dark] .colab-df-convert:hover {\n",
              "      background-color: #434B5C;\n",
              "      box-shadow: 0px 1px 3px 1px rgba(0, 0, 0, 0.15);\n",
              "      filter: drop-shadow(0px 1px 2px rgba(0, 0, 0, 0.3));\n",
              "      fill: #FFFFFF;\n",
              "    }\n",
              "  </style>\n",
              "\n",
              "    <script>\n",
              "      const buttonEl =\n",
              "        document.querySelector('#df-a6075a61-631a-49cc-aa02-e2d955451dd9 button.colab-df-convert');\n",
              "      buttonEl.style.display =\n",
              "        google.colab.kernel.accessAllowed ? 'block' : 'none';\n",
              "\n",
              "      async function convertToInteractive(key) {\n",
              "        const element = document.querySelector('#df-a6075a61-631a-49cc-aa02-e2d955451dd9');\n",
              "        const dataTable =\n",
              "          await google.colab.kernel.invokeFunction('convertToInteractive',\n",
              "                                                    [key], {});\n",
              "        if (!dataTable) return;\n",
              "\n",
              "        const docLinkHtml = 'Like what you see? Visit the ' +\n",
              "          '<a target=\"_blank\" href=https://colab.research.google.com/notebooks/data_table.ipynb>data table notebook</a>'\n",
              "          + ' to learn more about interactive tables.';\n",
              "        element.innerHTML = '';\n",
              "        dataTable['output_type'] = 'display_data';\n",
              "        await google.colab.output.renderOutput(dataTable, element);\n",
              "        const docLink = document.createElement('div');\n",
              "        docLink.innerHTML = docLinkHtml;\n",
              "        element.appendChild(docLink);\n",
              "      }\n",
              "    </script>\n",
              "  </div>\n",
              "\n",
              "\n",
              "<div id=\"df-b3722d5b-ea4f-4b24-9eab-4ac17408543e\">\n",
              "  <button class=\"colab-df-quickchart\" onclick=\"quickchart('df-b3722d5b-ea4f-4b24-9eab-4ac17408543e')\"\n",
              "            title=\"Suggest charts\"\n",
              "            style=\"display:none;\">\n",
              "\n",
              "<svg xmlns=\"http://www.w3.org/2000/svg\" height=\"24px\"viewBox=\"0 0 24 24\"\n",
              "     width=\"24px\">\n",
              "    <g>\n",
              "        <path d=\"M19 3H5c-1.1 0-2 .9-2 2v14c0 1.1.9 2 2 2h14c1.1 0 2-.9 2-2V5c0-1.1-.9-2-2-2zM9 17H7v-7h2v7zm4 0h-2V7h2v10zm4 0h-2v-4h2v4z\"/>\n",
              "    </g>\n",
              "</svg>\n",
              "  </button>\n",
              "\n",
              "<style>\n",
              "  .colab-df-quickchart {\n",
              "      --bg-color: #E8F0FE;\n",
              "      --fill-color: #1967D2;\n",
              "      --hover-bg-color: #E2EBFA;\n",
              "      --hover-fill-color: #174EA6;\n",
              "      --disabled-fill-color: #AAA;\n",
              "      --disabled-bg-color: #DDD;\n",
              "  }\n",
              "\n",
              "  [theme=dark] .colab-df-quickchart {\n",
              "      --bg-color: #3B4455;\n",
              "      --fill-color: #D2E3FC;\n",
              "      --hover-bg-color: #434B5C;\n",
              "      --hover-fill-color: #FFFFFF;\n",
              "      --disabled-bg-color: #3B4455;\n",
              "      --disabled-fill-color: #666;\n",
              "  }\n",
              "\n",
              "  .colab-df-quickchart {\n",
              "    background-color: var(--bg-color);\n",
              "    border: none;\n",
              "    border-radius: 50%;\n",
              "    cursor: pointer;\n",
              "    display: none;\n",
              "    fill: var(--fill-color);\n",
              "    height: 32px;\n",
              "    padding: 0;\n",
              "    width: 32px;\n",
              "  }\n",
              "\n",
              "  .colab-df-quickchart:hover {\n",
              "    background-color: var(--hover-bg-color);\n",
              "    box-shadow: 0 1px 2px rgba(60, 64, 67, 0.3), 0 1px 3px 1px rgba(60, 64, 67, 0.15);\n",
              "    fill: var(--button-hover-fill-color);\n",
              "  }\n",
              "\n",
              "  .colab-df-quickchart-complete:disabled,\n",
              "  .colab-df-quickchart-complete:disabled:hover {\n",
              "    background-color: var(--disabled-bg-color);\n",
              "    fill: var(--disabled-fill-color);\n",
              "    box-shadow: none;\n",
              "  }\n",
              "\n",
              "  .colab-df-spinner {\n",
              "    border: 2px solid var(--fill-color);\n",
              "    border-color: transparent;\n",
              "    border-bottom-color: var(--fill-color);\n",
              "    animation:\n",
              "      spin 1s steps(1) infinite;\n",
              "  }\n",
              "\n",
              "  @keyframes spin {\n",
              "    0% {\n",
              "      border-color: transparent;\n",
              "      border-bottom-color: var(--fill-color);\n",
              "      border-left-color: var(--fill-color);\n",
              "    }\n",
              "    20% {\n",
              "      border-color: transparent;\n",
              "      border-left-color: var(--fill-color);\n",
              "      border-top-color: var(--fill-color);\n",
              "    }\n",
              "    30% {\n",
              "      border-color: transparent;\n",
              "      border-left-color: var(--fill-color);\n",
              "      border-top-color: var(--fill-color);\n",
              "      border-right-color: var(--fill-color);\n",
              "    }\n",
              "    40% {\n",
              "      border-color: transparent;\n",
              "      border-right-color: var(--fill-color);\n",
              "      border-top-color: var(--fill-color);\n",
              "    }\n",
              "    60% {\n",
              "      border-color: transparent;\n",
              "      border-right-color: var(--fill-color);\n",
              "    }\n",
              "    80% {\n",
              "      border-color: transparent;\n",
              "      border-right-color: var(--fill-color);\n",
              "      border-bottom-color: var(--fill-color);\n",
              "    }\n",
              "    90% {\n",
              "      border-color: transparent;\n",
              "      border-bottom-color: var(--fill-color);\n",
              "    }\n",
              "  }\n",
              "</style>\n",
              "\n",
              "  <script>\n",
              "    async function quickchart(key) {\n",
              "      const quickchartButtonEl =\n",
              "        document.querySelector('#' + key + ' button');\n",
              "      quickchartButtonEl.disabled = true;  // To prevent multiple clicks.\n",
              "      quickchartButtonEl.classList.add('colab-df-spinner');\n",
              "      try {\n",
              "        const charts = await google.colab.kernel.invokeFunction(\n",
              "            'suggestCharts', [key], {});\n",
              "      } catch (error) {\n",
              "        console.error('Error during call to suggestCharts:', error);\n",
              "      }\n",
              "      quickchartButtonEl.classList.remove('colab-df-spinner');\n",
              "      quickchartButtonEl.classList.add('colab-df-quickchart-complete');\n",
              "    }\n",
              "    (() => {\n",
              "      let quickchartButtonEl =\n",
              "        document.querySelector('#df-b3722d5b-ea4f-4b24-9eab-4ac17408543e button');\n",
              "      quickchartButtonEl.style.display =\n",
              "        google.colab.kernel.accessAllowed ? 'block' : 'none';\n",
              "    })();\n",
              "  </script>\n",
              "</div>\n",
              "    </div>\n",
              "  </div>\n"
            ],
            "application/vnd.google.colaboratory.intrinsic+json": {
              "type": "dataframe",
              "variable_name": "data",
              "summary": "{\n  \"name\": \"data\",\n  \"rows\": 700,\n  \"fields\": [\n    {\n      \"column\": \"ingredients\",\n      \"properties\": {\n        \"dtype\": \"string\",\n        \"num_unique_values\": 700,\n        \"samples\": [\n          \"24 cupcakes (baked from your favorite mix, any flavor)\\n1 (16 ounce) can milk chocolate frosting\\n72 oval shortbread cookies (like 1 box of Keebler Sandies Right bites shortbread)\\n1 (11 ounce) bag candy corn\\n1 (2/3 ounce) package decorator's black icing (store bought)\\n1 (2/3 ounce) package decorator's white icing (store bought)\\n1 (5 ounce) box of red fruit leather, like Fruit by the Foot (you won't use all of it)\\n\",\n          \"15 mint leaves\\n1 teaspoon raw sugar\\n1 ounce fresh lime juice\\n1\\u20442 ounce simple syrup\\nice\\n4 4 ounces club soda or 4 ounces sparkling water\\n\",\n          \"10 -12 chicken thighs\\n1 lb Velveeta cheese\\n2 cans cream of chicken soup\\n1 (4 ounce) can green chilies\\n1 bag plain Doritos\\n\"\n        ],\n        \"semantic_type\": \"\",\n        \"description\": \"\"\n      }\n    },\n    {\n      \"column\": \"ingredients_entities\",\n      \"properties\": {\n        \"dtype\": \"string\",\n        \"num_unique_values\": 700,\n        \"samples\": [\n          \"[{\\\"start\\\": 0, \\\"end\\\": 2, \\\"type\\\": \\\"QUANTITY\\\", \\\"entity\\\": \\\"24\\\"},{\\\"start\\\": 3, \\\"end\\\": 11, \\\"type\\\": \\\"FOOD\\\", \\\"entity\\\": \\\"cupcakes\\\"},{\\\"start\\\": 13, \\\"end\\\": 53, \\\"type\\\": \\\"PHYSICAL_QUALITY\\\", \\\"entity\\\": \\\"baked from your favorite mix, any flavor\\\"},{\\\"start\\\": 55, \\\"end\\\": 56, \\\"type\\\": \\\"QUANTITY\\\", \\\"entity\\\": \\\"1\\\"},{\\\"start\\\": 58, \\\"end\\\": 60, \\\"type\\\": \\\"QUANTITY\\\", \\\"entity\\\": \\\"16\\\"},{\\\"start\\\": 61, \\\"end\\\": 66, \\\"type\\\": \\\"UNIT\\\", \\\"entity\\\": \\\"ounce\\\"},{\\\"start\\\": 68, \\\"end\\\": 71, \\\"type\\\": \\\"UNIT\\\", \\\"entity\\\": \\\"can\\\"},{\\\"start\\\": 72, \\\"end\\\": 95, \\\"type\\\": \\\"FOOD\\\", \\\"entity\\\": \\\"milk chocolate frosting\\\"},{\\\"start\\\": 96, \\\"end\\\": 98, \\\"type\\\": \\\"QUANTITY\\\", \\\"entity\\\": \\\"72\\\"},{\\\"start\\\": 99, \\\"end\\\": 103, \\\"type\\\": \\\"PHYSICAL_QUALITY\\\", \\\"entity\\\": \\\"oval\\\"},{\\\"start\\\": 104, \\\"end\\\": 122, \\\"type\\\": \\\"FOOD\\\", \\\"entity\\\": \\\"shortbread cookies\\\"},{\\\"start\\\": 129, \\\"end\\\": 130, \\\"type\\\": \\\"QUANTITY\\\", \\\"entity\\\": \\\"1\\\"},{\\\"start\\\": 131, \\\"end\\\": 134, \\\"type\\\": \\\"UNIT\\\", \\\"entity\\\": \\\"box\\\"},{\\\"start\\\": 178, \\\"end\\\": 179, \\\"type\\\": \\\"QUANTITY\\\", \\\"entity\\\": \\\"1\\\"},{\\\"start\\\": 181, \\\"end\\\": 183, \\\"type\\\": \\\"QUANTITY\\\", \\\"entity\\\": \\\"11\\\"},{\\\"start\\\": 184, \\\"end\\\": 189, \\\"type\\\": \\\"UNIT\\\", \\\"entity\\\": \\\"ounce\\\"},{\\\"start\\\": 191, \\\"end\\\": 194, \\\"type\\\": \\\"UNIT\\\", \\\"entity\\\": \\\"bag\\\"},{\\\"start\\\": 195, \\\"end\\\": 205, \\\"type\\\": \\\"FOOD\\\", \\\"entity\\\": \\\"candy corn\\\"},{\\\"start\\\": 206, \\\"end\\\": 207, \\\"type\\\": \\\"QUANTITY\\\", \\\"entity\\\": \\\"1\\\"},{\\\"start\\\": 209, \\\"end\\\": 212, \\\"type\\\": \\\"QUANTITY\\\", \\\"entity\\\": \\\"2/3\\\"},{\\\"start\\\": 213, \\\"end\\\": 218, \\\"type\\\": \\\"UNIT\\\", \\\"entity\\\": \\\"ounce\\\"},{\\\"start\\\": 220, \\\"end\\\": 227, \\\"type\\\": \\\"UNIT\\\", \\\"entity\\\": \\\"package\\\"},{\\\"start\\\": 228, \\\"end\\\": 239, \\\"type\\\": \\\"FOOD\\\", \\\"entity\\\": \\\"decorator's\\\"},{\\\"start\\\": 240, \\\"end\\\": 245, \\\"type\\\": \\\"COLOR\\\", \\\"entity\\\": \\\"black\\\"},{\\\"start\\\": 246, \\\"end\\\": 251, \\\"type\\\": \\\"FOOD\\\", \\\"entity\\\": \\\"icing\\\"},{\\\"start\\\": 267, \\\"end\\\": 268, \\\"type\\\": \\\"QUANTITY\\\", \\\"entity\\\": \\\"1\\\"},{\\\"start\\\": 270, \\\"end\\\": 273, \\\"type\\\": \\\"QUANTITY\\\", \\\"entity\\\": \\\"2/3\\\"},{\\\"start\\\": 274, \\\"end\\\": 279, \\\"type\\\": \\\"UNIT\\\", \\\"entity\\\": \\\"ounce\\\"},{\\\"start\\\": 281, \\\"end\\\": 288, \\\"type\\\": \\\"UNIT\\\", \\\"entity\\\": \\\"package\\\"},{\\\"start\\\": 289, \\\"end\\\": 312, \\\"type\\\": \\\"FOOD\\\", \\\"entity\\\": \\\"decorator's white icing\\\"},{\\\"start\\\": 328, \\\"end\\\": 329, \\\"type\\\": \\\"QUANTITY\\\", \\\"entity\\\": \\\"1\\\"},{\\\"start\\\": 331, \\\"end\\\": 332, \\\"type\\\": \\\"QUANTITY\\\", \\\"entity\\\": \\\"5\\\"},{\\\"start\\\": 333, \\\"end\\\": 338, \\\"type\\\": \\\"UNIT\\\", \\\"entity\\\": \\\"ounce\\\"},{\\\"start\\\": 340, \\\"end\\\": 343, \\\"type\\\": \\\"UNIT\\\", \\\"entity\\\": \\\"box\\\"},{\\\"start\\\": 347, \\\"end\\\": 364, \\\"type\\\": \\\"FOOD\\\", \\\"entity\\\": \\\"red fruit leather\\\"}]\",\n          \"[{\\\"start\\\": 0, \\\"end\\\": 2, \\\"type\\\": \\\"QUANTITY\\\", \\\"entity\\\": \\\"15\\\"},{\\\"start\\\": 3, \\\"end\\\": 7, \\\"type\\\": \\\"FOOD\\\", \\\"entity\\\": \\\"mint\\\"},{\\\"start\\\": 8, \\\"end\\\": 14, \\\"type\\\": \\\"UNIT\\\", \\\"entity\\\": \\\"leaves\\\"},{\\\"start\\\": 15, \\\"end\\\": 16, \\\"type\\\": \\\"QUANTITY\\\", \\\"entity\\\": \\\"1\\\"},{\\\"start\\\": 17, \\\"end\\\": 25, \\\"type\\\": \\\"UNIT\\\", \\\"entity\\\": \\\"teaspoon\\\"},{\\\"start\\\": 26, \\\"end\\\": 35, \\\"type\\\": \\\"FOOD\\\", \\\"entity\\\": \\\"raw sugar\\\"},{\\\"start\\\": 36, \\\"end\\\": 37, \\\"type\\\": \\\"QUANTITY\\\", \\\"entity\\\": \\\"1\\\"},{\\\"start\\\": 38, \\\"end\\\": 43, \\\"type\\\": \\\"UNIT\\\", \\\"entity\\\": \\\"ounce\\\"},{\\\"start\\\": 44, \\\"end\\\": 49, \\\"type\\\": \\\"PHYSICAL_QUALITY\\\", \\\"entity\\\": \\\"fresh\\\"},{\\\"start\\\": 50, \\\"end\\\": 60, \\\"type\\\": \\\"FOOD\\\", \\\"entity\\\": \\\"lime juice\\\"},{\\\"start\\\": 61, \\\"end\\\": 64, \\\"type\\\": \\\"QUANTITY\\\", \\\"entity\\\": \\\"1\\u20442\\\"},{\\\"start\\\": 65, \\\"end\\\": 70, \\\"type\\\": \\\"UNIT\\\", \\\"entity\\\": \\\"ounce\\\"},{\\\"start\\\": 71, \\\"end\\\": 83, \\\"type\\\": \\\"FOOD\\\", \\\"entity\\\": \\\"simple syrup\\\"},{\\\"start\\\": 88, \\\"end\\\": 91, \\\"type\\\": \\\"QUANTITY\\\", \\\"entity\\\": \\\"4 4\\\"},{\\\"start\\\": 92, \\\"end\\\": 98, \\\"type\\\": \\\"UNIT\\\", \\\"entity\\\": \\\"ounces\\\"},{\\\"start\\\": 99, \\\"end\\\": 108, \\\"type\\\": \\\"FOOD\\\", \\\"entity\\\": \\\"club soda\\\"},{\\\"start\\\": 112, \\\"end\\\": 113, \\\"type\\\": \\\"QUANTITY\\\", \\\"entity\\\": \\\"4\\\"},{\\\"start\\\": 114, \\\"end\\\": 120, \\\"type\\\": \\\"UNIT\\\", \\\"entity\\\": \\\"ounces\\\"},{\\\"start\\\": 121, \\\"end\\\": 130, \\\"type\\\": \\\"PHYSICAL_QUALITY\\\", \\\"entity\\\": \\\"sparkling\\\"},{\\\"start\\\": 131, \\\"end\\\": 136, \\\"type\\\": \\\"FOOD\\\", \\\"entity\\\": \\\"water\\\"}]\",\n          \"[{\\\"start\\\": 0, \\\"end\\\": 6, \\\"type\\\": \\\"QUANTITY\\\", \\\"entity\\\": \\\"10 -12\\\"},{\\\"start\\\": 7, \\\"end\\\": 14, \\\"type\\\": \\\"FOOD\\\", \\\"entity\\\": \\\"chicken\\\"},{\\\"start\\\": 15, \\\"end\\\": 21, \\\"type\\\": \\\"PART\\\", \\\"entity\\\": \\\"thighs\\\"},{\\\"start\\\": 22, \\\"end\\\": 23, \\\"type\\\": \\\"QUANTITY\\\", \\\"entity\\\": \\\"1\\\"},{\\\"start\\\": 24, \\\"end\\\": 26, \\\"type\\\": \\\"UNIT\\\", \\\"entity\\\": \\\"lb\\\"},{\\\"start\\\": 36, \\\"end\\\": 42, \\\"type\\\": \\\"FOOD\\\", \\\"entity\\\": \\\"cheese\\\"},{\\\"start\\\": 43, \\\"end\\\": 44, \\\"type\\\": \\\"QUANTITY\\\", \\\"entity\\\": \\\"2\\\"},{\\\"start\\\": 45, \\\"end\\\": 49, \\\"type\\\": \\\"UNIT\\\", \\\"entity\\\": \\\"cans\\\"},{\\\"start\\\": 50, \\\"end\\\": 71, \\\"type\\\": \\\"FOOD\\\", \\\"entity\\\": \\\"cream of chicken soup\\\"},{\\\"start\\\": 72, \\\"end\\\": 73, \\\"type\\\": \\\"QUANTITY\\\", \\\"entity\\\": \\\"1\\\"},{\\\"start\\\": 75, \\\"end\\\": 76, \\\"type\\\": \\\"QUANTITY\\\", \\\"entity\\\": \\\"4\\\"},{\\\"start\\\": 77, \\\"end\\\": 82, \\\"type\\\": \\\"UNIT\\\", \\\"entity\\\": \\\"ounce\\\"},{\\\"start\\\": 84, \\\"end\\\": 87, \\\"type\\\": \\\"UNIT\\\", \\\"entity\\\": \\\"can\\\"},{\\\"start\\\": 88, \\\"end\\\": 93, \\\"type\\\": \\\"COLOR\\\", \\\"entity\\\": \\\"green\\\"},{\\\"start\\\": 94, \\\"end\\\": 101, \\\"type\\\": \\\"FOOD\\\", \\\"entity\\\": \\\"chilies\\\"},{\\\"start\\\": 102, \\\"end\\\": 103, \\\"type\\\": \\\"QUANTITY\\\", \\\"entity\\\": \\\"1\\\"},{\\\"start\\\": 104, \\\"end\\\": 107, \\\"type\\\": \\\"UNIT\\\", \\\"entity\\\": \\\"bag\\\"},{\\\"start\\\": 108, \\\"end\\\": 121, \\\"type\\\": \\\"FOOD\\\", \\\"entity\\\": \\\"plain Doritos\\\"}]\"\n        ],\n        \"semantic_type\": \"\",\n        \"description\": \"\"\n      }\n    }\n  ]\n}"
            }
          },
          "metadata": {},
          "execution_count": 3
        }
      ]
    },
    {
      "cell_type": "code",
      "source": [
        "data[\"ingredients_entities\"][0]"
      ],
      "metadata": {
        "colab": {
          "base_uri": "https://localhost:8080/",
          "height": 122
        },
        "id": "69r2sZ32pnYY",
        "outputId": "e75bab90-5c9e-4642-f791-be67e4860f79"
      },
      "execution_count": null,
      "outputs": [
        {
          "output_type": "execute_result",
          "data": {
            "text/plain": [
              "'[{\"start\": 0, \"end\": 1, \"type\": \"QUANTITY\", \"entity\": \"5\"},{\"start\": 2, \"end\": 8, \"type\": \"UNIT\", \"entity\": \"ounces\"},{\"start\": 9, \"end\": 12, \"type\": \"FOOD\", \"entity\": \"rum\"},{\"start\": 13, \"end\": 14, \"type\": \"QUANTITY\", \"entity\": \"4\"},{\"start\": 15, \"end\": 21, \"type\": \"UNIT\", \"entity\": \"ounces\"},{\"start\": 22, \"end\": 32, \"type\": \"FOOD\", \"entity\": \"triple sec\"},{\"start\": 33, \"end\": 34, \"type\": \"QUANTITY\", \"entity\": \"3\"},{\"start\": 35, \"end\": 41, \"type\": \"UNIT\", \"entity\": \"ounces\"},{\"start\": 42, \"end\": 51, \"type\": \"FOOD\", \"entity\": \"Tia Maria\"},{\"start\": 52, \"end\": 54, \"type\": \"QUANTITY\", \"entity\": \"20\"},{\"start\": 55, \"end\": 61, \"type\": \"UNIT\", \"entity\": \"ounces\"},{\"start\": 62, \"end\": 74, \"type\": \"FOOD\", \"entity\": \"orange juice\"}]'"
            ],
            "application/vnd.google.colaboratory.intrinsic+json": {
              "type": "string"
            }
          },
          "metadata": {},
          "execution_count": 4
        }
      ]
    },
    {
      "cell_type": "markdown",
      "source": [
        "The labels are formatted in JSON where each entity holds its position inside the ingredient sentence"
      ],
      "metadata": {
        "id": "km2zj8EziPzb"
      }
    },
    {
      "cell_type": "code",
      "source": [
        " import json\n",
        " ingredients_entities = json.loads(data.at[0, \"ingredients_entities\"])"
      ],
      "metadata": {
        "id": "m09HwtfwxqqP"
      },
      "execution_count": null,
      "outputs": []
    },
    {
      "cell_type": "code",
      "source": [
        "ingredients_entities"
      ],
      "metadata": {
        "colab": {
          "base_uri": "https://localhost:8080/"
        },
        "id": "Ru3fXeYfx2nF",
        "outputId": "938f3da1-b16b-4606-a0fb-32984b750b02"
      },
      "execution_count": null,
      "outputs": [
        {
          "output_type": "execute_result",
          "data": {
            "text/plain": [
              "[{'start': 0, 'end': 1, 'type': 'QUANTITY', 'entity': '5'},\n",
              " {'start': 2, 'end': 8, 'type': 'UNIT', 'entity': 'ounces'},\n",
              " {'start': 9, 'end': 12, 'type': 'FOOD', 'entity': 'rum'},\n",
              " {'start': 13, 'end': 14, 'type': 'QUANTITY', 'entity': '4'},\n",
              " {'start': 15, 'end': 21, 'type': 'UNIT', 'entity': 'ounces'},\n",
              " {'start': 22, 'end': 32, 'type': 'FOOD', 'entity': 'triple sec'},\n",
              " {'start': 33, 'end': 34, 'type': 'QUANTITY', 'entity': '3'},\n",
              " {'start': 35, 'end': 41, 'type': 'UNIT', 'entity': 'ounces'},\n",
              " {'start': 42, 'end': 51, 'type': 'FOOD', 'entity': 'Tia Maria'},\n",
              " {'start': 52, 'end': 54, 'type': 'QUANTITY', 'entity': '20'},\n",
              " {'start': 55, 'end': 61, 'type': 'UNIT', 'entity': 'ounces'},\n",
              " {'start': 62, 'end': 74, 'type': 'FOOD', 'entity': 'orange juice'}]"
            ]
          },
          "metadata": {},
          "execution_count": 6
        }
      ]
    },
    {
      "cell_type": "markdown",
      "source": [
        "I need them in the form of an array where each index holds a specific tag that corresponds to a word in the sentence.<br>\n",
        "I.E: \"5 grams of sugar\" -> [\"QUANTITY\", \"UNIT\", \"NONE\", \"FOOD\"]"
      ],
      "metadata": {
        "id": "85vCcNJbiiG0"
      }
    },
    {
      "cell_type": "code",
      "source": [
        "labels = []\n",
        "sentences = []\n",
        "\n",
        "for j in range(0,len(data)):\n",
        "  # getting the entities and the sentences\n",
        "  ingredients_entities = json.loads(data.at[j, \"ingredients_entities\"])\n",
        "  chars = list(data[\"ingredients\"][j].replace(\"\\n\",\" \"))\n",
        "\n",
        "  # replacing every character with asterisks\n",
        "  for x in range(0,len(chars)):\n",
        "    if chars[x]!= \" \" and chars[x]!=\"\\n\":\n",
        "      chars[x]= \"*\"\n",
        "\n",
        "  previous = list(data[\"ingredients\"][j])\n",
        "\n",
        "  while len(ingredients_entities)>0:\n",
        "    word = chars[ingredients_entities[-1][\"start\"]:ingredients_entities[-1][\"end\"]]\n",
        "    # if an entity has more than one word I want to repeat the tag\n",
        "    replace_count = len(\"\".join(word).split(\" \"))\n",
        "    replace = ingredients_entities[-1][\"type\"]\n",
        "    for i in range(1,replace_count):\n",
        "      replace = replace + \" \" +ingredients_entities[-1][\"type\"]\n",
        "    # now I replace the asterisk corresponding to that word with the tags\n",
        "    chars[ingredients_entities[-1][\"start\"]:ingredients_entities[-1][\"end\"]] = replace\n",
        "    last_index = len(ingredients_entities) - 1\n",
        "    # I am done with that entity\n",
        "    ingredients_entities.pop(last_index)\n",
        "  tags = \"\".join(chars).replace(\"\\n\",\" \").split(\" \")\n",
        "  #print(tags)\n",
        "  for w in range(0,len(tags)):\n",
        "    # ignoring empty words\n",
        "    if(len(tags[w]) == 0):\n",
        "      tags.pop(w)\n",
        "      continue\n",
        "    # now replacing meaningless words with the tag \"O\"\n",
        "    onlystars = True\n",
        "    for c in list(tags[w]):\n",
        "      if c != \"*\" and c != \"\\n\":\n",
        "        onlystars = False\n",
        "        break\n",
        "    if onlystars:\n",
        "      tags[w] = \"O\"\n",
        "  #print(\" \".join(tags).replace(\"*\",\"\"))\n",
        "  #print(\"\".join(previous))\n",
        "\n",
        "  tagsArr =  \" \".join(tags).replace(\"*\",\"\").split(\" \")\n",
        "  sentenceArr = \"\".join(previous).replace(\"\\n\",\" \").split(\" \")\n",
        "  #print(sentenceArr)\n",
        "  # removing the empty word\n",
        "  if sentenceArr[-1] == \"\":\n",
        "    sentenceArr.pop(len(sentenceArr)-1)\n",
        "  #print(str(len(tagsArr))+\"==\"+str(len(sentenceArr)))\n",
        "\n",
        "  for i in range(0,len(tagsArr)):\n",
        "    if tagsArr[i] == \"PHYSICAL_QUALITYPHYSICAL_QUALITY\":\n",
        "      tagsArr[i] = \"PHYSICAL_QUALITY\"\n",
        "    elif tagsArr[i] == \"PROCESSPROCESS\":\n",
        "      tagsArr[i] = \"PROCESS\"\n",
        "    elif tagsArr[i] == \"QUANTITYUNIT\":\n",
        "      tagsArr[i] = \"QUANTITY\"\n",
        "\n",
        "  # now removing what I'm not looking for\n",
        "  for i in range(0,len(tagsArr)):\n",
        "    if tagsArr[i] != \"FOOD\" and tagsArr[i] != \"QUANTITY\" and tagsArr[i] != \"UNIT\":\n",
        "      tagsArr[i] = \"O\"\n",
        "\n",
        "  # finally I can add sentences and label to their respective array\n",
        "  sentences.append(\" \".join(sentenceArr))\n",
        "  labels.append(tagsArr)\n",
        "\n",
        "df = pd.DataFrame({'sentences':sentences, 'labels':labels})\n",
        "df.head()\n",
        "\n"
      ],
      "metadata": {
        "colab": {
          "base_uri": "https://localhost:8080/",
          "height": 380
        },
        "id": "_unjwIWcDINJ",
        "outputId": "814fe640-8897-4334-a9db-62d958858c7e"
      },
      "execution_count": null,
      "outputs": [
        {
          "output_type": "execute_result",
          "data": {
            "text/plain": [
              "                                                                                                                                                                     sentences  \\\n",
              "0                                                                                                   5 ounces rum 4 ounces triple sec 3 ounces Tia Maria 20 ounces orange juice   \n",
              "1                    2 tubes cinnamon roll, refrigerated, with icing 4 tablespoons butter, melted 6 eggs ½ cup milk 2 teaspoons cinnamon 2 teaspoons vanilla 1 cup maple syrup   \n",
              "2                                 4 ripe coconuts 1 cup evaporated milk 1 cup gin 3 tablespoons sugar (optional) 1 teaspoon ground cinnamon 1⁄2 teaspoon freshly grated nutmeg   \n",
              "3                                   1 sheet graham cracker (broken in half) 2 pieces milk chocolate candy bars 1 marshmallows 6 -8 fresh blueberries 2 thick strawberry slices   \n",
              "4  1 (8 ounce) package crescent rolls 8 slices deli ham 4 teaspoons prepared mustard 1 cup shredded swiss cheese or 1 cup cheddar cheese 2 tablespoons sesame seeds (optional)   \n",
              "\n",
              "                                                                                                                                                                                           labels  \n",
              "0                                                                                      [QUANTITY, UNIT, FOOD, QUANTITY, UNIT, FOOD, FOOD, QUANTITY, UNIT, FOOD, FOOD, QUANTITY, UNIT, FOOD, FOOD]  \n",
              "1              [QUANTITY, UNIT, FOOD, FOOD, O, FOOD, FOOD, QUANTITY, UNIT, FOOD, O, QUANTITY, FOOD, QUANTITY, UNIT, FOOD, QUANTITY, UNIT, FOOD, QUANTITY, UNIT, FOOD, QUANTITY, UNIT, FOOD, FOOD]  \n",
              "2                                             [QUANTITY, O, FOOD, QUANTITY, UNIT, FOOD, FOOD, QUANTITY, UNIT, FOOD, QUANTITY, UNIT, FOOD, O, QUANTITY, UNIT, O, FOOD, QUANTITY, UNIT, O, O, FOOD]  \n",
              "3                                             [QUANTITY, UNIT, FOOD, FOOD, O, O, O, QUANTITY, UNIT, FOOD, FOOD, FOOD, FOOD, QUANTITY, FOOD, QUANTITY, QUANTITY, O, FOOD, QUANTITY, O, FOOD, FOOD]  \n",
              "4  [QUANTITY, QUANTITY, UNIT, UNIT, FOOD, FOOD, QUANTITY, UNIT, FOOD, FOOD, QUANTITY, UNIT, O, FOOD, QUANTITY, UNIT, O, FOOD, FOOD, O, QUANTITY, UNIT, FOOD, FOOD, QUANTITY, UNIT, FOOD, FOOD, O]  "
            ],
            "text/html": [
              "\n",
              "  <div id=\"df-fe5194dc-bcbc-46c9-a741-a5a38d237d86\" class=\"colab-df-container\">\n",
              "    <div>\n",
              "<style scoped>\n",
              "    .dataframe tbody tr th:only-of-type {\n",
              "        vertical-align: middle;\n",
              "    }\n",
              "\n",
              "    .dataframe tbody tr th {\n",
              "        vertical-align: top;\n",
              "    }\n",
              "\n",
              "    .dataframe thead th {\n",
              "        text-align: right;\n",
              "    }\n",
              "</style>\n",
              "<table border=\"1\" class=\"dataframe\">\n",
              "  <thead>\n",
              "    <tr style=\"text-align: right;\">\n",
              "      <th></th>\n",
              "      <th>sentences</th>\n",
              "      <th>labels</th>\n",
              "    </tr>\n",
              "  </thead>\n",
              "  <tbody>\n",
              "    <tr>\n",
              "      <th>0</th>\n",
              "      <td>5 ounces rum 4 ounces triple sec 3 ounces Tia Maria 20 ounces orange juice</td>\n",
              "      <td>[QUANTITY, UNIT, FOOD, QUANTITY, UNIT, FOOD, FOOD, QUANTITY, UNIT, FOOD, FOOD, QUANTITY, UNIT, FOOD, FOOD]</td>\n",
              "    </tr>\n",
              "    <tr>\n",
              "      <th>1</th>\n",
              "      <td>2 tubes cinnamon roll, refrigerated, with icing 4 tablespoons butter, melted 6 eggs ½ cup milk 2 teaspoons cinnamon 2 teaspoons vanilla 1 cup maple syrup</td>\n",
              "      <td>[QUANTITY, UNIT, FOOD, FOOD, O, FOOD, FOOD, QUANTITY, UNIT, FOOD, O, QUANTITY, FOOD, QUANTITY, UNIT, FOOD, QUANTITY, UNIT, FOOD, QUANTITY, UNIT, FOOD, QUANTITY, UNIT, FOOD, FOOD]</td>\n",
              "    </tr>\n",
              "    <tr>\n",
              "      <th>2</th>\n",
              "      <td>4 ripe coconuts 1 cup evaporated milk 1 cup gin 3 tablespoons sugar (optional) 1 teaspoon ground cinnamon 1⁄2 teaspoon freshly grated nutmeg</td>\n",
              "      <td>[QUANTITY, O, FOOD, QUANTITY, UNIT, FOOD, FOOD, QUANTITY, UNIT, FOOD, QUANTITY, UNIT, FOOD, O, QUANTITY, UNIT, O, FOOD, QUANTITY, UNIT, O, O, FOOD]</td>\n",
              "    </tr>\n",
              "    <tr>\n",
              "      <th>3</th>\n",
              "      <td>1 sheet graham cracker (broken in half) 2 pieces milk chocolate candy bars 1 marshmallows 6 -8 fresh blueberries 2 thick strawberry slices</td>\n",
              "      <td>[QUANTITY, UNIT, FOOD, FOOD, O, O, O, QUANTITY, UNIT, FOOD, FOOD, FOOD, FOOD, QUANTITY, FOOD, QUANTITY, QUANTITY, O, FOOD, QUANTITY, O, FOOD, FOOD]</td>\n",
              "    </tr>\n",
              "    <tr>\n",
              "      <th>4</th>\n",
              "      <td>1 (8 ounce) package crescent rolls 8 slices deli ham 4 teaspoons prepared mustard 1 cup shredded swiss cheese or 1 cup cheddar cheese 2 tablespoons sesame seeds (optional)</td>\n",
              "      <td>[QUANTITY, QUANTITY, UNIT, UNIT, FOOD, FOOD, QUANTITY, UNIT, FOOD, FOOD, QUANTITY, UNIT, O, FOOD, QUANTITY, UNIT, O, FOOD, FOOD, O, QUANTITY, UNIT, FOOD, FOOD, QUANTITY, UNIT, FOOD, FOOD, O]</td>\n",
              "    </tr>\n",
              "  </tbody>\n",
              "</table>\n",
              "</div>\n",
              "    <div class=\"colab-df-buttons\">\n",
              "\n",
              "  <div class=\"colab-df-container\">\n",
              "    <button class=\"colab-df-convert\" onclick=\"convertToInteractive('df-fe5194dc-bcbc-46c9-a741-a5a38d237d86')\"\n",
              "            title=\"Convert this dataframe to an interactive table.\"\n",
              "            style=\"display:none;\">\n",
              "\n",
              "  <svg xmlns=\"http://www.w3.org/2000/svg\" height=\"24px\" viewBox=\"0 -960 960 960\">\n",
              "    <path d=\"M120-120v-720h720v720H120Zm60-500h600v-160H180v160Zm220 220h160v-160H400v160Zm0 220h160v-160H400v160ZM180-400h160v-160H180v160Zm440 0h160v-160H620v160ZM180-180h160v-160H180v160Zm440 0h160v-160H620v160Z\"/>\n",
              "  </svg>\n",
              "    </button>\n",
              "\n",
              "  <style>\n",
              "    .colab-df-container {\n",
              "      display:flex;\n",
              "      gap: 12px;\n",
              "    }\n",
              "\n",
              "    .colab-df-convert {\n",
              "      background-color: #E8F0FE;\n",
              "      border: none;\n",
              "      border-radius: 50%;\n",
              "      cursor: pointer;\n",
              "      display: none;\n",
              "      fill: #1967D2;\n",
              "      height: 32px;\n",
              "      padding: 0 0 0 0;\n",
              "      width: 32px;\n",
              "    }\n",
              "\n",
              "    .colab-df-convert:hover {\n",
              "      background-color: #E2EBFA;\n",
              "      box-shadow: 0px 1px 2px rgba(60, 64, 67, 0.3), 0px 1px 3px 1px rgba(60, 64, 67, 0.15);\n",
              "      fill: #174EA6;\n",
              "    }\n",
              "\n",
              "    .colab-df-buttons div {\n",
              "      margin-bottom: 4px;\n",
              "    }\n",
              "\n",
              "    [theme=dark] .colab-df-convert {\n",
              "      background-color: #3B4455;\n",
              "      fill: #D2E3FC;\n",
              "    }\n",
              "\n",
              "    [theme=dark] .colab-df-convert:hover {\n",
              "      background-color: #434B5C;\n",
              "      box-shadow: 0px 1px 3px 1px rgba(0, 0, 0, 0.15);\n",
              "      filter: drop-shadow(0px 1px 2px rgba(0, 0, 0, 0.3));\n",
              "      fill: #FFFFFF;\n",
              "    }\n",
              "  </style>\n",
              "\n",
              "    <script>\n",
              "      const buttonEl =\n",
              "        document.querySelector('#df-fe5194dc-bcbc-46c9-a741-a5a38d237d86 button.colab-df-convert');\n",
              "      buttonEl.style.display =\n",
              "        google.colab.kernel.accessAllowed ? 'block' : 'none';\n",
              "\n",
              "      async function convertToInteractive(key) {\n",
              "        const element = document.querySelector('#df-fe5194dc-bcbc-46c9-a741-a5a38d237d86');\n",
              "        const dataTable =\n",
              "          await google.colab.kernel.invokeFunction('convertToInteractive',\n",
              "                                                    [key], {});\n",
              "        if (!dataTable) return;\n",
              "\n",
              "        const docLinkHtml = 'Like what you see? Visit the ' +\n",
              "          '<a target=\"_blank\" href=https://colab.research.google.com/notebooks/data_table.ipynb>data table notebook</a>'\n",
              "          + ' to learn more about interactive tables.';\n",
              "        element.innerHTML = '';\n",
              "        dataTable['output_type'] = 'display_data';\n",
              "        await google.colab.output.renderOutput(dataTable, element);\n",
              "        const docLink = document.createElement('div');\n",
              "        docLink.innerHTML = docLinkHtml;\n",
              "        element.appendChild(docLink);\n",
              "      }\n",
              "    </script>\n",
              "  </div>\n",
              "\n",
              "\n",
              "<div id=\"df-5b43c77d-0614-423d-b33f-efec101ff23b\">\n",
              "  <button class=\"colab-df-quickchart\" onclick=\"quickchart('df-5b43c77d-0614-423d-b33f-efec101ff23b')\"\n",
              "            title=\"Suggest charts\"\n",
              "            style=\"display:none;\">\n",
              "\n",
              "<svg xmlns=\"http://www.w3.org/2000/svg\" height=\"24px\"viewBox=\"0 0 24 24\"\n",
              "     width=\"24px\">\n",
              "    <g>\n",
              "        <path d=\"M19 3H5c-1.1 0-2 .9-2 2v14c0 1.1.9 2 2 2h14c1.1 0 2-.9 2-2V5c0-1.1-.9-2-2-2zM9 17H7v-7h2v7zm4 0h-2V7h2v10zm4 0h-2v-4h2v4z\"/>\n",
              "    </g>\n",
              "</svg>\n",
              "  </button>\n",
              "\n",
              "<style>\n",
              "  .colab-df-quickchart {\n",
              "      --bg-color: #E8F0FE;\n",
              "      --fill-color: #1967D2;\n",
              "      --hover-bg-color: #E2EBFA;\n",
              "      --hover-fill-color: #174EA6;\n",
              "      --disabled-fill-color: #AAA;\n",
              "      --disabled-bg-color: #DDD;\n",
              "  }\n",
              "\n",
              "  [theme=dark] .colab-df-quickchart {\n",
              "      --bg-color: #3B4455;\n",
              "      --fill-color: #D2E3FC;\n",
              "      --hover-bg-color: #434B5C;\n",
              "      --hover-fill-color: #FFFFFF;\n",
              "      --disabled-bg-color: #3B4455;\n",
              "      --disabled-fill-color: #666;\n",
              "  }\n",
              "\n",
              "  .colab-df-quickchart {\n",
              "    background-color: var(--bg-color);\n",
              "    border: none;\n",
              "    border-radius: 50%;\n",
              "    cursor: pointer;\n",
              "    display: none;\n",
              "    fill: var(--fill-color);\n",
              "    height: 32px;\n",
              "    padding: 0;\n",
              "    width: 32px;\n",
              "  }\n",
              "\n",
              "  .colab-df-quickchart:hover {\n",
              "    background-color: var(--hover-bg-color);\n",
              "    box-shadow: 0 1px 2px rgba(60, 64, 67, 0.3), 0 1px 3px 1px rgba(60, 64, 67, 0.15);\n",
              "    fill: var(--button-hover-fill-color);\n",
              "  }\n",
              "\n",
              "  .colab-df-quickchart-complete:disabled,\n",
              "  .colab-df-quickchart-complete:disabled:hover {\n",
              "    background-color: var(--disabled-bg-color);\n",
              "    fill: var(--disabled-fill-color);\n",
              "    box-shadow: none;\n",
              "  }\n",
              "\n",
              "  .colab-df-spinner {\n",
              "    border: 2px solid var(--fill-color);\n",
              "    border-color: transparent;\n",
              "    border-bottom-color: var(--fill-color);\n",
              "    animation:\n",
              "      spin 1s steps(1) infinite;\n",
              "  }\n",
              "\n",
              "  @keyframes spin {\n",
              "    0% {\n",
              "      border-color: transparent;\n",
              "      border-bottom-color: var(--fill-color);\n",
              "      border-left-color: var(--fill-color);\n",
              "    }\n",
              "    20% {\n",
              "      border-color: transparent;\n",
              "      border-left-color: var(--fill-color);\n",
              "      border-top-color: var(--fill-color);\n",
              "    }\n",
              "    30% {\n",
              "      border-color: transparent;\n",
              "      border-left-color: var(--fill-color);\n",
              "      border-top-color: var(--fill-color);\n",
              "      border-right-color: var(--fill-color);\n",
              "    }\n",
              "    40% {\n",
              "      border-color: transparent;\n",
              "      border-right-color: var(--fill-color);\n",
              "      border-top-color: var(--fill-color);\n",
              "    }\n",
              "    60% {\n",
              "      border-color: transparent;\n",
              "      border-right-color: var(--fill-color);\n",
              "    }\n",
              "    80% {\n",
              "      border-color: transparent;\n",
              "      border-right-color: var(--fill-color);\n",
              "      border-bottom-color: var(--fill-color);\n",
              "    }\n",
              "    90% {\n",
              "      border-color: transparent;\n",
              "      border-bottom-color: var(--fill-color);\n",
              "    }\n",
              "  }\n",
              "</style>\n",
              "\n",
              "  <script>\n",
              "    async function quickchart(key) {\n",
              "      const quickchartButtonEl =\n",
              "        document.querySelector('#' + key + ' button');\n",
              "      quickchartButtonEl.disabled = true;  // To prevent multiple clicks.\n",
              "      quickchartButtonEl.classList.add('colab-df-spinner');\n",
              "      try {\n",
              "        const charts = await google.colab.kernel.invokeFunction(\n",
              "            'suggestCharts', [key], {});\n",
              "      } catch (error) {\n",
              "        console.error('Error during call to suggestCharts:', error);\n",
              "      }\n",
              "      quickchartButtonEl.classList.remove('colab-df-spinner');\n",
              "      quickchartButtonEl.classList.add('colab-df-quickchart-complete');\n",
              "    }\n",
              "    (() => {\n",
              "      let quickchartButtonEl =\n",
              "        document.querySelector('#df-5b43c77d-0614-423d-b33f-efec101ff23b button');\n",
              "      quickchartButtonEl.style.display =\n",
              "        google.colab.kernel.accessAllowed ? 'block' : 'none';\n",
              "    })();\n",
              "  </script>\n",
              "</div>\n",
              "    </div>\n",
              "  </div>\n"
            ],
            "application/vnd.google.colaboratory.intrinsic+json": {
              "type": "dataframe",
              "variable_name": "df",
              "summary": "{\n  \"name\": \"df\",\n  \"rows\": 700,\n  \"fields\": [\n    {\n      \"column\": \"sentences\",\n      \"properties\": {\n        \"dtype\": \"string\",\n        \"num_unique_values\": 700,\n        \"samples\": [\n          \"24 cupcakes (baked from your favorite mix, any flavor) 1 (16 ounce) can milk chocolate frosting 72 oval shortbread cookies (like 1 box of Keebler Sandies Right bites shortbread) 1 (11 ounce) bag candy corn 1 (2/3 ounce) package decorator's black icing (store bought) 1 (2/3 ounce) package decorator's white icing (store bought) 1 (5 ounce) box of red fruit leather, like Fruit by the Foot (you won't use all of it)\",\n          \"15 mint leaves 1 teaspoon raw sugar 1 ounce fresh lime juice 1\\u20442 ounce simple syrup ice 4 4 ounces club soda or 4 ounces sparkling water\",\n          \"10 -12 chicken thighs 1 lb Velveeta cheese 2 cans cream of chicken soup 1 (4 ounce) can green chilies 1 bag plain Doritos\"\n        ],\n        \"semantic_type\": \"\",\n        \"description\": \"\"\n      }\n    },\n    {\n      \"column\": \"labels\",\n      \"properties\": {\n        \"dtype\": \"object\",\n        \"semantic_type\": \"\",\n        \"description\": \"\"\n      }\n    }\n  ]\n}"
            }
          },
          "metadata": {},
          "execution_count": 154
        }
      ]
    },
    {
      "cell_type": "markdown",
      "source": [
        "Now counting the unique words in all the sentences"
      ],
      "metadata": {
        "id": "RpZqrfkFvFi4"
      }
    },
    {
      "cell_type": "code",
      "source": [
        "unique_words = set([])\n",
        "unique_tags = set([])\n",
        "max_len = 0\n",
        "for i in range(0,len(df[\"sentences\"])):\n",
        "  unique_words.update(df[\"sentences\"][i].split(\" \"))\n",
        "  unique_tags.update(df[\"labels\"][i])\n",
        "  max_len = max(max_len, len(df[\"sentences\"][i].split(\" \")))\n",
        "print(len(unique_words))\n",
        "print(max_len)"
      ],
      "metadata": {
        "colab": {
          "base_uri": "https://localhost:8080/"
        },
        "id": "qDRctopooiQF",
        "outputId": "69d33b81-ae2a-4ee5-e43c-e3f6dabbe6f4"
      },
      "execution_count": null,
      "outputs": [
        {
          "output_type": "stream",
          "name": "stdout",
          "text": [
            "2959\n",
            "72\n"
          ]
        }
      ]
    },
    {
      "cell_type": "code",
      "source": [
        "print(unique_tags)"
      ],
      "metadata": {
        "colab": {
          "base_uri": "https://localhost:8080/"
        },
        "id": "AE0qv3pP4Unx",
        "outputId": "89dd3d21-3417-4f19-adbd-8d015144352a"
      },
      "execution_count": null,
      "outputs": [
        {
          "output_type": "stream",
          "name": "stdout",
          "text": [
            "{'QUANTITY', 'O', 'UNIT', 'FOOD'}\n"
          ]
        }
      ]
    },
    {
      "cell_type": "code",
      "source": [
        "pd.set_option('display.max_colwidth', None)\n",
        "sample = df.sample()\n",
        "print(sample[\"sentences\"])\n",
        "print(sample[\"labels\"])"
      ],
      "metadata": {
        "colab": {
          "base_uri": "https://localhost:8080/"
        },
        "id": "eYQRZY7Vu6vy",
        "outputId": "b9b7515b-875c-45fb-fbf1-06ce82b89bc1"
      },
      "execution_count": null,
      "outputs": [
        {
          "output_type": "stream",
          "name": "stdout",
          "text": [
            "318    1 pint grape tomatoes, halved 1 tablespoon light brown sugar 3 tablespoons balsamic vinegar 1⁄4 teaspoon salt 1 teaspoon olive oil 2 tablespoons thinly sliced fresh basil\n",
            "Name: sentences, dtype: object\n",
            "318    [QUANTITY, UNIT, FOOD, FOOD, O, QUANTITY, UNIT, O, O, FOOD, QUANTITY, UNIT, FOOD, FOOD, QUANTITY, UNIT, FOOD, QUANTITY, UNIT, FOOD, FOOD, QUANTITY, UNIT, O, O, O, FOOD]\n",
            "Name: labels, dtype: object\n"
          ]
        }
      ]
    },
    {
      "cell_type": "code",
      "source": [
        "X = list(df['sentences'])\n",
        "Y = list(df['labels'])"
      ],
      "metadata": {
        "id": "RZ779eNrxG_b"
      },
      "execution_count": null,
      "outputs": []
    },
    {
      "cell_type": "markdown",
      "source": [
        "## Building the network\n"
      ],
      "metadata": {
        "id": "vevBNty8htb5"
      }
    },
    {
      "cell_type": "code",
      "source": [
        "import tensorflow as tf\n",
        "from tensorflow.keras.preprocessing.text import Tokenizer\n",
        "from tensorflow.keras.preprocessing.sequence import pad_sequences\n",
        "from tensorflow.keras.regularizers import l2\n"
      ],
      "metadata": {
        "id": "iUmp9R1vqAmR"
      },
      "execution_count": null,
      "outputs": []
    },
    {
      "cell_type": "code",
      "source": [
        "tokenizer = Tokenizer(num_words=len(unique_words))\n",
        "tokenizer.fit_on_texts(X)\n",
        "sequences = tokenizer.texts_to_sequences(X)"
      ],
      "metadata": {
        "id": "RPsUOOar2zNR"
      },
      "execution_count": null,
      "outputs": []
    },
    {
      "cell_type": "code",
      "source": [
        "X_preprocessed = pad_sequences(sequences, maxlen=max_len, padding='post')"
      ],
      "metadata": {
        "id": "vltK_TOL30qh"
      },
      "execution_count": null,
      "outputs": []
    },
    {
      "cell_type": "code",
      "source": [
        "X_preprocessed[0]"
      ],
      "metadata": {
        "colab": {
          "base_uri": "https://localhost:8080/"
        },
        "id": "Lg3jN2Fb38gk",
        "outputId": "4f9f58e7-89fc-4a6e-e0f2-9e312f6beeea"
      },
      "execution_count": null,
      "outputs": [
        {
          "output_type": "execute_result",
          "data": {
            "text/plain": [
              "array([  44,    9,  185,    4,    9,  374,  375,    6,    9, 1015, 1016,\n",
              "        220,    9,   97,   27,    0,    0,    0,    0,    0,    0,    0,\n",
              "          0,    0,    0,    0,    0,    0,    0,    0,    0,    0,    0,\n",
              "          0,    0,    0,    0,    0,    0,    0,    0,    0,    0,    0,\n",
              "          0,    0,    0,    0,    0,    0,    0,    0,    0,    0,    0,\n",
              "          0,    0,    0,    0,    0,    0,    0,    0,    0,    0,    0,\n",
              "          0,    0,    0,    0,    0,    0], dtype=int32)"
            ]
          },
          "metadata": {},
          "execution_count": 162
        }
      ]
    },
    {
      "cell_type": "markdown",
      "source": [
        "Now I'm preparing some utility function to convert tags and word to tokens (and vice-versa)"
      ],
      "metadata": {
        "id": "gJmk4OGSh7UX"
      }
    },
    {
      "cell_type": "code",
      "source": [
        "word_index = tokenizer.word_index\n",
        "print(\"Found {} unique tokens.\".format(len(word_index)))\n",
        "ind2word = dict([(value, key) for (key, value) in word_index.items()])"
      ],
      "metadata": {
        "colab": {
          "base_uri": "https://localhost:8080/"
        },
        "id": "PwpWQKFzzeLx",
        "outputId": "f35c2ac3-16f2-47a8-80a3-44fc1d3bfe55"
      },
      "execution_count": null,
      "outputs": [
        {
          "output_type": "stream",
          "name": "stdout",
          "text": [
            "Found 1784 unique tokens.\n"
          ]
        }
      ]
    },
    {
      "cell_type": "code",
      "source": [
        "word2id = word_index"
      ],
      "metadata": {
        "id": "tVxdxfZFzlXV"
      },
      "execution_count": null,
      "outputs": []
    },
    {
      "cell_type": "code",
      "source": [
        "id2word = {}\n",
        "for key, value in word2id.items():\n",
        "    id2word[value] = key"
      ],
      "metadata": {
        "id": "vuGbWF3EzovZ"
      },
      "execution_count": null,
      "outputs": []
    },
    {
      "cell_type": "code",
      "source": [
        "tags2id = {}\n",
        "for i, tag in enumerate(unique_tags):\n",
        "    tags2id[tag] = i"
      ],
      "metadata": {
        "id": "-XWMhhS3zzvd"
      },
      "execution_count": null,
      "outputs": []
    },
    {
      "cell_type": "code",
      "source": [
        "id2tag = {}\n",
        "for key, value in tags2id.items():\n",
        "    id2tag[value] = key"
      ],
      "metadata": {
        "id": "7iNaIUUN0DRJ"
      },
      "execution_count": null,
      "outputs": []
    },
    {
      "cell_type": "code",
      "source": [
        "tags2id"
      ],
      "metadata": {
        "colab": {
          "base_uri": "https://localhost:8080/"
        },
        "id": "4H2DzaVFz4_v",
        "outputId": "20f809b8-6f3a-4c1f-a89a-177b7693465b"
      },
      "execution_count": null,
      "outputs": [
        {
          "output_type": "execute_result",
          "data": {
            "text/plain": [
              "{'QUANTITY': 0, 'O': 1, 'UNIT': 2, 'FOOD': 3}"
            ]
          },
          "metadata": {},
          "execution_count": 168
        }
      ]
    },
    {
      "cell_type": "code",
      "source": [
        "id2tag"
      ],
      "metadata": {
        "colab": {
          "base_uri": "https://localhost:8080/"
        },
        "id": "PSTRP_BV0Gaz",
        "outputId": "ec5f9742-7bdc-49fc-9ee8-b33a2f92d529"
      },
      "execution_count": null,
      "outputs": [
        {
          "output_type": "execute_result",
          "data": {
            "text/plain": [
              "{0: 'QUANTITY', 1: 'O', 2: 'UNIT', 3: 'FOOD'}"
            ]
          },
          "metadata": {},
          "execution_count": 169
        }
      ]
    },
    {
      "cell_type": "markdown",
      "source": [
        "Tags now need to be padded like the sentences. The tag 'O' will be assigned to the characters added by padding  "
      ],
      "metadata": {
        "id": "IzAPrf_giKZP"
      }
    },
    {
      "cell_type": "code",
      "source": [
        "def preprocess_tags(tags2id, Y_ready, max_len):\n",
        "\n",
        "    Y_preprocessed = []\n",
        "    # for each target\n",
        "    for y in Y_ready:\n",
        "\n",
        "        # place holder to store the new preprocessed tag list\n",
        "        Y_place_holder = []\n",
        "\n",
        "        # for each tag in rhe tag list\n",
        "        for tag in y:\n",
        "            # append the id of the tag in the place holder list\n",
        "            Y_place_holder.append(tags2id[tag])\n",
        "\n",
        "        # find the lenght of the new preprocessed tag list\n",
        "        len_new_tag_list = len(Y_place_holder)\n",
        "        # find the differance in length between the len of tag list and padded sentences\n",
        "        num_O_to_add = max_len - len_new_tag_list\n",
        "\n",
        "        # add 'O's to padd the tag lists\n",
        "        padded_tags = Y_place_holder + ([tags2id['O']] * num_O_to_add)\n",
        "        Y_preprocessed.append(padded_tags)\n",
        "\n",
        "    return Y_preprocessed"
      ],
      "metadata": {
        "id": "DrRB3-gQ0Vmb"
      },
      "execution_count": null,
      "outputs": []
    },
    {
      "cell_type": "code",
      "source": [
        "Y_preprocessed = preprocess_tags(tags2id, Y, max_len)"
      ],
      "metadata": {
        "id": "8oFZC3B97c_B"
      },
      "execution_count": null,
      "outputs": []
    },
    {
      "cell_type": "code",
      "source": [
        "import numpy as np\n",
        "X_preprocessed = np.asarray(X_preprocessed)\n",
        "Y_preprocessed = np.asarray(Y_preprocessed)"
      ],
      "metadata": {
        "id": "gFFpDn8j9cGj"
      },
      "execution_count": null,
      "outputs": []
    },
    {
      "cell_type": "markdown",
      "source": [
        "Splitting the dataset fot test and validation"
      ],
      "metadata": {
        "id": "uf2KmXo-ikMD"
      }
    },
    {
      "cell_type": "code",
      "source": [
        "training_samples = 0.7\n",
        "validation_samples = 0.15\n",
        "testing_samples = 0.15"
      ],
      "metadata": {
        "id": "BGJekm5k9kf7"
      },
      "execution_count": null,
      "outputs": []
    },
    {
      "cell_type": "code",
      "source": [
        "indices = np.arange(len(Y_preprocessed))\n",
        "np.random.seed(seed=555)\n",
        "np.random.shuffle(indices)\n",
        "X_preprocessed = X_preprocessed[indices]\n",
        "Y_preprocessed = Y_preprocessed[indices]"
      ],
      "metadata": {
        "id": "BAAjzlhD9q7w"
      },
      "execution_count": null,
      "outputs": []
    },
    {
      "cell_type": "code",
      "source": [
        "X_train = X_preprocessed[: int(0.7 * len(X_preprocessed))]\n",
        "print(\"Number of training examples: {}\".format(len(X_train)))\n",
        "\n",
        "\n",
        "X_val = X_preprocessed[int(0.7 * len(X_preprocessed)) : int(0.7 * len(X_preprocessed)) + (int(0.15 * len(X_preprocessed)) + 1)]\n",
        "print(\"Number of validation examples: {}\".format(len(X_val)))\n",
        "\n",
        "\n",
        "X_test = X_preprocessed[int(0.7 * len(X_preprocessed)) + (int(0.15 * len(X_preprocessed)) + 1) : ]\n",
        "print(\"Number of testing examples: {}\".format(len(X_test)))\n",
        "\n",
        "\n",
        "\n",
        "Y_train = Y_preprocessed[: int(0.7 * len(X_preprocessed))]\n",
        "Y_val = Y_preprocessed[int(0.7 * len(X_preprocessed)) : int(0.7 * len(X_preprocessed)) + (int(0.15 * len(X_preprocessed)) + 1)]\n",
        "Y_test = Y_preprocessed[int(0.7 * len(X_preprocessed)) + (int(0.15 * len(X_preprocessed)) + 1) : ]\n",
        "\n",
        "print(\"Total number of examples after shuffling and splitting: {}\".format(len(X_train) + len(X_val) + len(X_test)))"
      ],
      "metadata": {
        "colab": {
          "base_uri": "https://localhost:8080/"
        },
        "id": "k7G8lDML9t7q",
        "outputId": "a5c3bf6f-312d-4a47-f2fc-861344e8c000"
      },
      "execution_count": null,
      "outputs": [
        {
          "output_type": "stream",
          "name": "stdout",
          "text": [
            "Number of training examples: 489\n",
            "Number of validation examples: 106\n",
            "Number of testing examples: 105\n",
            "Total number of examples after shuffling and splitting: 700\n"
          ]
        }
      ]
    },
    {
      "cell_type": "code",
      "source": [
        "train_dataset = tf.data.Dataset.from_tensor_slices((X_train, Y_train))\n",
        "val_dataset = tf.data.Dataset.from_tensor_slices((X_val, Y_val))\n",
        "test_dataset = tf.data.Dataset.from_tensor_slices((X_test, Y_test))"
      ],
      "metadata": {
        "id": "bgU3-sin9yLk"
      },
      "execution_count": null,
      "outputs": []
    },
    {
      "cell_type": "code",
      "source": [
        "BATCH_SIZE = 32\n",
        "SHUFFLE_BUFFER_SIZE = 32\n",
        "\n",
        "train_dataset = train_dataset.shuffle(SHUFFLE_BUFFER_SIZE).batch(BATCH_SIZE)\n",
        "val_dataset = val_dataset.batch(BATCH_SIZE)\n",
        "test_dataset = test_dataset.batch(BATCH_SIZE)"
      ],
      "metadata": {
        "id": "vTXqAFHx95Ed"
      },
      "execution_count": null,
      "outputs": []
    },
    {
      "cell_type": "markdown",
      "source": [
        "Now I'm building the newtork, after several attempts the following model performs better for the aim of this project"
      ],
      "metadata": {
        "id": "Faf_6EioivN4"
      }
    },
    {
      "cell_type": "code",
      "source": [
        "embedding_dim = 300\n",
        "num_tags = len(unique_tags)\n",
        "\n",
        "model = tf.keras.models.Sequential([\n",
        "    tf.keras.layers.Embedding(max_len, embedding_dim, input_length=max_len),\n",
        "    tf.keras.layers.Bidirectional(tf.keras.layers.LSTM(units=100, activation='tanh', return_sequences=True)),\n",
        "    tf.keras.layers.Dropout(0.5),\n",
        "    tf.keras.layers.Bidirectional(tf.keras.layers.LSTM(units=100, activation='tanh', return_sequences=True)),\n",
        "    tf.keras.layers.Dropout(0.5),\n",
        "    tf.keras.layers.TimeDistributed(tf.keras.layers.Dense(num_tags, activation='softmax'))\n",
        "])"
      ],
      "metadata": {
        "id": "Py6ckRNQ-EoT"
      },
      "execution_count": null,
      "outputs": []
    },
    {
      "cell_type": "code",
      "source": [
        "model.summary()"
      ],
      "metadata": {
        "colab": {
          "base_uri": "https://localhost:8080/"
        },
        "id": "QnLN3Qry_juw",
        "outputId": "3ee57383-72a3-4fe1-f3b4-68dc610e76ea"
      },
      "execution_count": null,
      "outputs": [
        {
          "output_type": "stream",
          "name": "stdout",
          "text": [
            "Model: \"sequential_12\"\n",
            "_________________________________________________________________\n",
            " Layer (type)                Output Shape              Param #   \n",
            "=================================================================\n",
            " embedding_13 (Embedding)    (None, 72, 300)           21600     \n",
            "                                                                 \n",
            " bidirectional_24 (Bidirect  (None, 72, 200)           320800    \n",
            " ional)                                                          \n",
            "                                                                 \n",
            " dropout_3 (Dropout)         (None, 72, 200)           0         \n",
            "                                                                 \n",
            " bidirectional_25 (Bidirect  (None, 72, 200)           240800    \n",
            " ional)                                                          \n",
            "                                                                 \n",
            " dropout_4 (Dropout)         (None, 72, 200)           0         \n",
            "                                                                 \n",
            " time_distributed_12 (TimeD  (None, 72, 4)             804       \n",
            " istributed)                                                     \n",
            "                                                                 \n",
            "=================================================================\n",
            "Total params: 584004 (2.23 MB)\n",
            "Trainable params: 584004 (2.23 MB)\n",
            "Non-trainable params: 0 (0.00 Byte)\n",
            "_________________________________________________________________\n"
          ]
        }
      ]
    },
    {
      "cell_type": "code",
      "source": [
        "model.compile(loss='sparse_categorical_crossentropy',\n",
        "              optimizer='adam',\n",
        "              metrics=['accuracy'])\n",
        "callback = tf.keras.callbacks.EarlyStopping(monitor='val_accuracy', patience=5)\n"
      ],
      "metadata": {
        "id": "I4u4xhlR_pKQ"
      },
      "execution_count": null,
      "outputs": []
    },
    {
      "cell_type": "code",
      "source": [
        "history = model.fit(train_dataset,\n",
        "                    validation_data=val_dataset,\n",
        "                    epochs=150,\n",
        "                    callbacks=[callback])"
      ],
      "metadata": {
        "colab": {
          "base_uri": "https://localhost:8080/"
        },
        "id": "LrdXWSMl_soc",
        "outputId": "2fb8c9eb-f869-4e86-ee2d-4f50d534674a"
      },
      "execution_count": null,
      "outputs": [
        {
          "output_type": "stream",
          "name": "stdout",
          "text": [
            "Epoch 1/150\n",
            "16/16 [==============================] - 10s 188ms/step - loss: 0.7246 - accuracy: 0.7233 - val_loss: 0.5454 - val_accuracy: 0.7478\n",
            "Epoch 2/150\n",
            "16/16 [==============================] - 2s 101ms/step - loss: 0.5126 - accuracy: 0.7618 - val_loss: 0.5150 - val_accuracy: 0.7652\n",
            "Epoch 3/150\n",
            "16/16 [==============================] - 1s 84ms/step - loss: 0.4944 - accuracy: 0.7701 - val_loss: 0.4975 - val_accuracy: 0.7721\n",
            "Epoch 4/150\n",
            "16/16 [==============================] - 1s 84ms/step - loss: 0.4808 - accuracy: 0.7762 - val_loss: 0.4875 - val_accuracy: 0.7771\n",
            "Epoch 5/150\n",
            "16/16 [==============================] - 1s 74ms/step - loss: 0.4687 - accuracy: 0.7800 - val_loss: 0.4783 - val_accuracy: 0.7824\n",
            "Epoch 6/150\n",
            "16/16 [==============================] - 1s 75ms/step - loss: 0.4588 - accuracy: 0.7878 - val_loss: 0.4680 - val_accuracy: 0.7887\n",
            "Epoch 7/150\n",
            "16/16 [==============================] - 1s 80ms/step - loss: 0.4475 - accuracy: 0.7950 - val_loss: 0.4555 - val_accuracy: 0.8015\n",
            "Epoch 8/150\n",
            "16/16 [==============================] - 1s 50ms/step - loss: 0.4318 - accuracy: 0.8067 - val_loss: 0.4383 - val_accuracy: 0.8145\n",
            "Epoch 9/150\n",
            "16/16 [==============================] - 1s 58ms/step - loss: 0.4117 - accuracy: 0.8235 - val_loss: 0.4175 - val_accuracy: 0.8315\n",
            "Epoch 10/150\n",
            "16/16 [==============================] - 1s 51ms/step - loss: 0.3925 - accuracy: 0.8380 - val_loss: 0.4031 - val_accuracy: 0.8378\n",
            "Epoch 11/150\n",
            "16/16 [==============================] - 1s 42ms/step - loss: 0.3767 - accuracy: 0.8462 - val_loss: 0.3919 - val_accuracy: 0.8445\n",
            "Epoch 12/150\n",
            "16/16 [==============================] - 1s 47ms/step - loss: 0.3635 - accuracy: 0.8511 - val_loss: 0.3761 - val_accuracy: 0.8445\n",
            "Epoch 13/150\n",
            "16/16 [==============================] - 1s 33ms/step - loss: 0.3479 - accuracy: 0.8583 - val_loss: 0.3558 - val_accuracy: 0.8501\n",
            "Epoch 14/150\n",
            "16/16 [==============================] - 1s 53ms/step - loss: 0.3328 - accuracy: 0.8626 - val_loss: 0.3466 - val_accuracy: 0.8538\n",
            "Epoch 15/150\n",
            "16/16 [==============================] - 1s 34ms/step - loss: 0.3212 - accuracy: 0.8678 - val_loss: 0.3416 - val_accuracy: 0.8581\n",
            "Epoch 16/150\n",
            "16/16 [==============================] - 1s 67ms/step - loss: 0.3121 - accuracy: 0.8716 - val_loss: 0.3346 - val_accuracy: 0.8578\n",
            "Epoch 17/150\n",
            "16/16 [==============================] - 0s 24ms/step - loss: 0.3076 - accuracy: 0.8727 - val_loss: 0.3484 - val_accuracy: 0.8483\n",
            "Epoch 18/150\n",
            "16/16 [==============================] - 0s 31ms/step - loss: 0.3106 - accuracy: 0.8709 - val_loss: 0.3324 - val_accuracy: 0.8591\n",
            "Epoch 19/150\n",
            "16/16 [==============================] - 0s 25ms/step - loss: 0.2982 - accuracy: 0.8774 - val_loss: 0.3329 - val_accuracy: 0.8615\n",
            "Epoch 20/150\n",
            "16/16 [==============================] - 0s 31ms/step - loss: 0.2917 - accuracy: 0.8795 - val_loss: 0.3268 - val_accuracy: 0.8588\n",
            "Epoch 21/150\n",
            "16/16 [==============================] - 0s 18ms/step - loss: 0.2792 - accuracy: 0.8851 - val_loss: 0.3301 - val_accuracy: 0.8591\n",
            "Epoch 22/150\n",
            "16/16 [==============================] - 1s 46ms/step - loss: 0.2756 - accuracy: 0.8864 - val_loss: 0.3309 - val_accuracy: 0.8620\n",
            "Epoch 23/150\n",
            "16/16 [==============================] - 0s 24ms/step - loss: 0.2789 - accuracy: 0.8860 - val_loss: 0.3273 - val_accuracy: 0.8588\n",
            "Epoch 24/150\n",
            "16/16 [==============================] - 1s 37ms/step - loss: 0.2710 - accuracy: 0.8902 - val_loss: 0.3399 - val_accuracy: 0.8608\n",
            "Epoch 25/150\n",
            "16/16 [==============================] - 0s 24ms/step - loss: 0.2632 - accuracy: 0.8933 - val_loss: 0.3363 - val_accuracy: 0.8619\n",
            "Epoch 26/150\n",
            "16/16 [==============================] - 0s 25ms/step - loss: 0.2613 - accuracy: 0.8949 - val_loss: 0.3321 - val_accuracy: 0.8635\n",
            "Epoch 27/150\n",
            "16/16 [==============================] - 0s 31ms/step - loss: 0.2584 - accuracy: 0.8936 - val_loss: 0.3398 - val_accuracy: 0.8639\n",
            "Epoch 28/150\n",
            "16/16 [==============================] - 1s 37ms/step - loss: 0.2578 - accuracy: 0.8954 - val_loss: 0.3333 - val_accuracy: 0.8618\n",
            "Epoch 29/150\n",
            "16/16 [==============================] - 0s 32ms/step - loss: 0.2509 - accuracy: 0.8989 - val_loss: 0.3521 - val_accuracy: 0.8652\n",
            "Epoch 30/150\n",
            "16/16 [==============================] - 0s 24ms/step - loss: 0.2458 - accuracy: 0.9002 - val_loss: 0.3397 - val_accuracy: 0.8677\n",
            "Epoch 31/150\n",
            "16/16 [==============================] - 1s 32ms/step - loss: 0.2415 - accuracy: 0.9021 - val_loss: 0.3493 - val_accuracy: 0.8648\n",
            "Epoch 32/150\n",
            "16/16 [==============================] - 0s 25ms/step - loss: 0.2355 - accuracy: 0.9037 - val_loss: 0.3483 - val_accuracy: 0.8637\n",
            "Epoch 33/150\n",
            "16/16 [==============================] - 0s 28ms/step - loss: 0.2327 - accuracy: 0.9056 - val_loss: 0.3541 - val_accuracy: 0.8662\n",
            "Epoch 34/150\n",
            "16/16 [==============================] - 0s 19ms/step - loss: 0.2274 - accuracy: 0.9082 - val_loss: 0.3454 - val_accuracy: 0.8719\n",
            "Epoch 35/150\n",
            "16/16 [==============================] - 0s 31ms/step - loss: 0.2276 - accuracy: 0.9060 - val_loss: 0.3490 - val_accuracy: 0.8664\n",
            "Epoch 36/150\n",
            "16/16 [==============================] - 0s 24ms/step - loss: 0.2255 - accuracy: 0.9075 - val_loss: 0.3602 - val_accuracy: 0.8652\n",
            "Epoch 37/150\n",
            "16/16 [==============================] - 1s 33ms/step - loss: 0.2270 - accuracy: 0.9074 - val_loss: 0.3575 - val_accuracy: 0.8717\n",
            "Epoch 38/150\n",
            "16/16 [==============================] - 0s 25ms/step - loss: 0.2211 - accuracy: 0.9076 - val_loss: 0.3497 - val_accuracy: 0.8678\n",
            "Epoch 39/150\n",
            "16/16 [==============================] - 1s 37ms/step - loss: 0.2167 - accuracy: 0.9118 - val_loss: 0.3587 - val_accuracy: 0.8692\n"
          ]
        }
      ]
    },
    {
      "cell_type": "code",
      "source": [
        "model.evaluate(test_dataset)"
      ],
      "metadata": {
        "colab": {
          "base_uri": "https://localhost:8080/"
        },
        "id": "94l_KQrvAOum",
        "outputId": "4c9ba84a-5472-49ce-8344-771542b6fb03"
      },
      "execution_count": null,
      "outputs": [
        {
          "output_type": "stream",
          "name": "stdout",
          "text": [
            "4/4 [==============================] - 0s 12ms/step - loss: 0.3690 - accuracy: 0.8831\n"
          ]
        },
        {
          "output_type": "execute_result",
          "data": {
            "text/plain": [
              "[0.3690480589866638, 0.8830687999725342]"
            ]
          },
          "metadata": {},
          "execution_count": 183
        }
      ]
    },
    {
      "cell_type": "markdown",
      "source": [
        "The validation accuracy almost at 90%"
      ],
      "metadata": {
        "id": "d9hxI4OOi84n"
      }
    },
    {
      "cell_type": "code",
      "source": [
        "import matplotlib.pyplot as plt\n",
        "acc = history.history['accuracy']\n",
        "val_acc = history.history['val_accuracy']\n",
        "\n",
        "loss = history.history['loss']\n",
        "val_loss = history.history['val_loss']\n",
        "\n",
        "epochs = range(1, len(acc) + 1)\n",
        "\n",
        "fig, ax = plt.subplots(1, 2, constrained_layout=True, figsize=(6, 4), dpi=80)\n",
        "\n",
        "ax[0].plot(epochs, acc, label = \"Training Accuracy\", color='darkblue')\n",
        "ax[0].plot(epochs, val_acc, label = \"Validation Accuracy\", color='darkgreen')\n",
        "ax[0].grid(alpha=0.3)\n",
        "ax[0].title.set_text('Training Vs Validation Accuracy')\n",
        "ax[0].fill_between(epochs, acc, val_acc, color='crimson', alpha=0.3)\n",
        "plt.setp(ax[0], xlabel='Epochs')\n",
        "plt.setp(ax[0], ylabel='Accuracy')\n",
        "\n",
        "\n",
        "ax[1].plot(epochs, loss, label = \"Training Loss\", color='darkblue')\n",
        "ax[1].plot(epochs, val_loss, label = \"Validation Loss\", color='darkgreen')\n",
        "ax[1].grid(alpha=0.3)\n",
        "ax[1].title.set_text('Training Vs Validation Loss')\n",
        "ax[1].fill_between(epochs,loss, val_loss, color='crimson', alpha=0.3)\n",
        "plt.setp(ax[1], xlabel='Epochs')\n",
        "plt.setp(ax[1], ylabel='Loss')\n",
        "\n",
        "plt.show()"
      ],
      "metadata": {
        "colab": {
          "base_uri": "https://localhost:8080/",
          "height": 346
        },
        "id": "FadI283NMr9H",
        "outputId": "21832def-e8c2-4d04-c56f-5dd1321ec29a"
      },
      "execution_count": null,
      "outputs": [
        {
          "output_type": "display_data",
          "data": {
            "text/plain": [
              "<Figure size 480x320 with 2 Axes>"
            ],
            "image/png": "[encoded data removed]"
          },
          "metadata": {}
        }
      ]
    }
  ]
}